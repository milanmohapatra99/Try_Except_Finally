{
 "cells": [
  {
   "cell_type": "code",
   "execution_count": 1,
   "id": "63aba751",
   "metadata": {},
   "outputs": [
    {
     "name": "stdout",
     "output_type": "stream",
     "text": [
      "Enter a number : 45\n",
      "We are Done\n"
     ]
    }
   ],
   "source": [
    "try:\n",
    "    i = int(input(\"Enter a number : \"))\n",
    "    c = 1/i\n",
    "except Exception as e:\n",
    "    print(e)\n",
    "finally:\n",
    "    print(\"We are Done\")\n",
    "    "
   ]
  },
  {
   "cell_type": "code",
   "execution_count": 2,
   "id": "e6e09571",
   "metadata": {},
   "outputs": [
    {
     "name": "stdout",
     "output_type": "stream",
     "text": [
      "Enter a number : sdf\n",
      "invalid literal for int() with base 10: 'sdf'\n",
      "We are Done\n"
     ]
    }
   ],
   "source": [
    "try:\n",
    "    i = int(input(\"Enter a number : \"))\n",
    "    c = 1/i\n",
    "except Exception as e:\n",
    "    print(e)\n",
    "    exit()\n",
    "finally:\n",
    "    print(\"We are Done\")\n",
    "    "
   ]
  },
  {
   "cell_type": "code",
   "execution_count": null,
   "id": "c7f56115",
   "metadata": {},
   "outputs": [],
   "source": []
  }
 ],
 "metadata": {
  "kernelspec": {
   "display_name": "Python 3 (ipykernel)",
   "language": "python",
   "name": "python3"
  },
  "language_info": {
   "codemirror_mode": {
    "name": "ipython",
    "version": 3
   },
   "file_extension": ".py",
   "mimetype": "text/x-python",
   "name": "python",
   "nbconvert_exporter": "python",
   "pygments_lexer": "ipython3",
   "version": "3.9.7"
  }
 },
 "nbformat": 4,
 "nbformat_minor": 5
}
